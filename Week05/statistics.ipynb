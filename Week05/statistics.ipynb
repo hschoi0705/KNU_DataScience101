{
  "nbformat": 4,
  "nbformat_minor": 0,
  "metadata": {
    "colab": {
      "name": "statistics.ipynb",
      "version": "0.3.2",
      "provenance": [],
      "collapsed_sections": []
    },
    "kernelspec": {
      "name": "python3",
      "display_name": "Python 3"
    }
  },
  "cells": [
    {
      "metadata": {
        "id": "LreoIj64CeUd",
        "colab_type": "text"
      },
      "cell_type": "markdown",
      "source": [
        "# Statistics"
      ]
    },
    {
      "metadata": {
        "id": "dIipq0J-Ck9B",
        "colab_type": "text"
      },
      "cell_type": "markdown",
      "source": [
        "## Interval estimation"
      ]
    },
    {
      "metadata": {
        "id": "7dgSFlkcCil4",
        "colab_type": "code",
        "colab": {}
      },
      "cell_type": "code",
      "source": [
        "# Library\n",
        "import pandas as pd\n",
        "import numpy as np\n",
        "from scipy.stats import t"
      ],
      "execution_count": 0,
      "outputs": []
    },
    {
      "metadata": {
        "id": "CZzcCP4jDCnk",
        "colab_type": "code",
        "colab": {
          "base_uri": "https://localhost:8080/",
          "height": 35
        },
        "outputId": "43b3c133-c8b6-4099-fd6c-5c9dfee7c98e"
      },
      "cell_type": "code",
      "source": [
        "# Make sample\n",
        "samples = pd.Series([9.0, 9.1, 8.8, 9.1, 9.0, 9.4, 9.2, 8.8, 8.6])\n",
        "print('Samples = ' + str(samples.get_values().tolist()))"
      ],
      "execution_count": 2,
      "outputs": [
        {
          "output_type": "stream",
          "text": [
            "Samples = [9.0, 9.1, 8.8, 9.1, 9.0, 9.4, 9.2, 8.8, 8.6]\n"
          ],
          "name": "stdout"
        }
      ]
    },
    {
      "metadata": {
        "id": "kBWSVqvxDM7C",
        "colab_type": "code",
        "colab": {
          "base_uri": "https://localhost:8080/",
          "height": 53
        },
        "outputId": "754fd373-7262-451d-ca8a-1380c5039bf2"
      },
      "cell_type": "code",
      "source": [
        "# sample mean & standard deviation\n",
        "mu = samples.mean()\n",
        "s = samples.std()\n",
        "print(\"sample mean is {:.1f}\".format(mu))\n",
        "print(\"sample standard deviation is {:.2f}\".format(s))"
      ],
      "execution_count": 3,
      "outputs": [
        {
          "output_type": "stream",
          "text": [
            "sample mean is 9.0\n",
            "sample standard deviation is 0.24\n"
          ],
          "name": "stdout"
        }
      ]
    },
    {
      "metadata": {
        "id": "CHZNe2V9DPue",
        "colab_type": "code",
        "colab": {
          "base_uri": "https://localhost:8080/",
          "height": 35
        },
        "outputId": "1fd0b1eb-d471-486c-b22d-32236f902b8d"
      },
      "cell_type": "code",
      "source": [
        "# t statistics\n",
        "n = len(samples)\n",
        "df = n - 1   # degree of freedom (n-1)\n",
        "tstatVal = t.ppf(1-0.025, df)\n",
        "print(\"t statistics is {:.3f}\".format(tstatVal))"
      ],
      "execution_count": 4,
      "outputs": [
        {
          "output_type": "stream",
          "text": [
            "t statistics is 2.306\n"
          ],
          "name": "stdout"
        }
      ]
    },
    {
      "metadata": {
        "id": "lmv9YjcrDVqN",
        "colab_type": "code",
        "colab": {
          "base_uri": "https://localhost:8080/",
          "height": 35
        },
        "outputId": "d71fb050-f84a-40dc-a731-3d03e8810371"
      },
      "cell_type": "code",
      "source": [
        "# confidence interval\n",
        "sx = s / np.sqrt(n)\n",
        "print(\"confidence interval is ({:.2f} ~ {:.2f})\".format(mu-tstatVal*sx, mu+tstatVal*sx))"
      ],
      "execution_count": 5,
      "outputs": [
        {
          "output_type": "stream",
          "text": [
            "confidence interval is (8.82 ~ 9.18)\n"
          ],
          "name": "stdout"
        }
      ]
    }
  ]
}
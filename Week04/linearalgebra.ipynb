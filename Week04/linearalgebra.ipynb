{
  "nbformat": 4,
  "nbformat_minor": 0,
  "metadata": {
    "colab": {
      "name": "linearalgebra.ipynb",
      "version": "0.3.2",
      "provenance": [],
      "collapsed_sections": []
    },
    "kernelspec": {
      "name": "python3",
      "display_name": "Python 3"
    }
  },
  "cells": [
    {
      "metadata": {
        "id": "uBXO1Pvzhsib",
        "colab_type": "text"
      },
      "cell_type": "markdown",
      "source": [
        "# Linear Algebra"
      ]
    },
    {
      "metadata": {
        "id": "4yvkwaB3hwB6",
        "colab_type": "text"
      },
      "cell_type": "markdown",
      "source": [
        "## Vector Operation"
      ]
    },
    {
      "metadata": {
        "id": "RM8VjD5Fh6wv",
        "colab_type": "code",
        "colab": {}
      },
      "cell_type": "code",
      "source": [
        "# Library\n",
        "import numpy as np\n",
        "\n",
        "# Vector\n",
        "a = np.array([1, 2])\n",
        "b = np.array([2, 3])"
      ],
      "execution_count": 0,
      "outputs": []
    },
    {
      "metadata": {
        "id": "CEU4UcZ5h2g_",
        "colab_type": "code",
        "colab": {
          "base_uri": "https://localhost:8080/",
          "height": 53
        },
        "outputId": "3a1f34b5-13c5-461c-b50f-a8e58c5aad10"
      },
      "cell_type": "code",
      "source": [
        "# Summation\n",
        "c = a + b\n",
        "print(c)\n",
        "\n",
        "c = np.add(a,b)\n",
        "print(c)"
      ],
      "execution_count": 3,
      "outputs": [
        {
          "output_type": "stream",
          "text": [
            "[3 5]\n",
            "[3 5]\n"
          ],
          "name": "stdout"
        }
      ]
    },
    {
      "metadata": {
        "id": "OAFcvcuviRim",
        "colab_type": "code",
        "colab": {
          "base_uri": "https://localhost:8080/",
          "height": 53
        },
        "outputId": "bac90bfc-a8ef-4357-8d88-3771c66c426e"
      },
      "cell_type": "code",
      "source": [
        "# Subtraction\n",
        "c = a - b\n",
        "print(c)\n",
        "\n",
        "c = np.subtract(a, b)\n",
        "print(c)"
      ],
      "execution_count": 4,
      "outputs": [
        {
          "output_type": "stream",
          "text": [
            "[-1 -1]\n",
            "[-1 -1]\n"
          ],
          "name": "stdout"
        }
      ]
    },
    {
      "metadata": {
        "id": "9wfOIVEJiYwM",
        "colab_type": "code",
        "colab": {
          "base_uri": "https://localhost:8080/",
          "height": 53
        },
        "outputId": "ba914afe-5220-4abe-c131-58fa62b05f0f"
      },
      "cell_type": "code",
      "source": [
        "# Scalar multiplication\n",
        "c = 2 * a\n",
        "print(c)\n",
        "\n",
        "c = np.multiply(2, a)\n",
        "print(c)"
      ],
      "execution_count": 5,
      "outputs": [
        {
          "output_type": "stream",
          "text": [
            "[2 4]\n",
            "[2 4]\n"
          ],
          "name": "stdout"
        }
      ]
    },
    {
      "metadata": {
        "id": "pMjogEififKa",
        "colab_type": "code",
        "colab": {
          "base_uri": "https://localhost:8080/",
          "height": 53
        },
        "outputId": "994c04c6-e2b3-445e-8c5b-4b40ec92fc21"
      },
      "cell_type": "code",
      "source": [
        "# Inner product\n",
        "c = np.dot(a, b)\n",
        "print(c)\n",
        "\n",
        "c = np.inner(a, b)\n",
        "print(c)"
      ],
      "execution_count": 6,
      "outputs": [
        {
          "output_type": "stream",
          "text": [
            "8\n",
            "8\n"
          ],
          "name": "stdout"
        }
      ]
    },
    {
      "metadata": {
        "id": "lD6oDLjhinWY",
        "colab_type": "text"
      },
      "cell_type": "markdown",
      "source": [
        "## Vector Norm & Inner Product"
      ]
    },
    {
      "metadata": {
        "id": "AnxW0Kawis0_",
        "colab_type": "code",
        "colab": {}
      },
      "cell_type": "code",
      "source": [
        "import numpy as np\n",
        "from scipy.spatial import distance\n",
        "\n",
        "# Vector\n",
        "a = np.array([3, 4])"
      ],
      "execution_count": 0,
      "outputs": []
    },
    {
      "metadata": {
        "id": "FwttqrBRjC4k",
        "colab_type": "code",
        "colab": {
          "base_uri": "https://localhost:8080/",
          "height": 35
        },
        "outputId": "dcdf998d-e0d3-4656-faf4-24358384802e"
      },
      "cell_type": "code",
      "source": [
        "# 2nd-order norm\n",
        "norma = np.linalg.norm(a)\n",
        "print(norma)"
      ],
      "execution_count": 10,
      "outputs": [
        {
          "output_type": "stream",
          "text": [
            "5.0\n"
          ],
          "name": "stdout"
        }
      ]
    },
    {
      "metadata": {
        "id": "1t0umIZ1jHMd",
        "colab_type": "code",
        "colab": {
          "base_uri": "https://localhost:8080/",
          "height": 53
        },
        "outputId": "b8ef494c-7871-4354-c604-ff066b2756c8"
      },
      "cell_type": "code",
      "source": [
        "# Euclidean distance between two vectors\n",
        "a = np.array([3, 4])\n",
        "b = np.array([3, 2])\n",
        "print(distance.euclidean(a, b))\n",
        "print(np.linalg.norm(a-b))"
      ],
      "execution_count": 11,
      "outputs": [
        {
          "output_type": "stream",
          "text": [
            "2.0\n",
            "2.0\n"
          ],
          "name": "stdout"
        }
      ]
    },
    {
      "metadata": {
        "id": "3sWh5YsPjSJI",
        "colab_type": "code",
        "colab": {
          "base_uri": "https://localhost:8080/",
          "height": 35
        },
        "outputId": "a0a7e171-6c51-4e8f-c3b9-959a277b194a"
      },
      "cell_type": "code",
      "source": [
        "# Orthogonal\n",
        "a = np.array([2, 0])\n",
        "b = np.array([0, 3])\n",
        "print(np.inner(a, b))"
      ],
      "execution_count": 12,
      "outputs": [
        {
          "output_type": "stream",
          "text": [
            "0\n"
          ],
          "name": "stdout"
        }
      ]
    },
    {
      "metadata": {
        "id": "n1LZXR7FjbxC",
        "colab_type": "text"
      },
      "cell_type": "markdown",
      "source": [
        "## Matrix Operation"
      ]
    },
    {
      "metadata": {
        "id": "qoyRxWVWjdty",
        "colab_type": "code",
        "colab": {}
      },
      "cell_type": "code",
      "source": [
        "# library\n",
        "import numpy as np\n",
        "\n",
        "# Matrix\n",
        "A = np.array([[1, 2], [3, 4]])\n",
        "B = np.array([[2, 3], [4, 5]])"
      ],
      "execution_count": 0,
      "outputs": []
    },
    {
      "metadata": {
        "id": "EfPyPLJwjoUL",
        "colab_type": "code",
        "colab": {
          "base_uri": "https://localhost:8080/",
          "height": 89
        },
        "outputId": "b139f167-0a60-4039-fbb2-ac65514c7ed6"
      },
      "cell_type": "code",
      "source": [
        "# Addition\n",
        "print(A+B)\n",
        "print(np.add(A, B))"
      ],
      "execution_count": 15,
      "outputs": [
        {
          "output_type": "stream",
          "text": [
            "[[3 5]\n",
            " [7 9]]\n",
            "[[3 5]\n",
            " [7 9]]\n"
          ],
          "name": "stdout"
        }
      ]
    },
    {
      "metadata": {
        "id": "FNRkfq90jr2k",
        "colab_type": "code",
        "colab": {
          "base_uri": "https://localhost:8080/",
          "height": 89
        },
        "outputId": "3bc42448-6b76-4ef2-dcf8-90f2429b4a1a"
      },
      "cell_type": "code",
      "source": [
        "# Subtraction\n",
        "print(A-B)\n",
        "print(np.subtract(A, B))"
      ],
      "execution_count": 16,
      "outputs": [
        {
          "output_type": "stream",
          "text": [
            "[[-1 -1]\n",
            " [-1 -1]]\n",
            "[[-1 -1]\n",
            " [-1 -1]]\n"
          ],
          "name": "stdout"
        }
      ]
    },
    {
      "metadata": {
        "id": "mq8cXhNgj1W-",
        "colab_type": "code",
        "colab": {
          "base_uri": "https://localhost:8080/",
          "height": 89
        },
        "outputId": "b44b1767-7e9b-444f-f1c1-16ab21d56cbe"
      },
      "cell_type": "code",
      "source": [
        "# Scalar Multiplication\n",
        "print(2*A)\n",
        "print(np.multiply(2, A))"
      ],
      "execution_count": 17,
      "outputs": [
        {
          "output_type": "stream",
          "text": [
            "[[2 4]\n",
            " [6 8]]\n",
            "[[2 4]\n",
            " [6 8]]\n"
          ],
          "name": "stdout"
        }
      ]
    },
    {
      "metadata": {
        "id": "EsOwdTQNj6uF",
        "colab_type": "code",
        "colab": {
          "base_uri": "https://localhost:8080/",
          "height": 89
        },
        "outputId": "ab9f6129-7590-4e19-e45d-4a7a58df0dec"
      },
      "cell_type": "code",
      "source": [
        "# Transpose\n",
        "A = np.mat([[1, 2], [3, 4]])\n",
        "print(A)\n",
        "print(A.T)"
      ],
      "execution_count": 18,
      "outputs": [
        {
          "output_type": "stream",
          "text": [
            "[[1 2]\n",
            " [3 4]]\n",
            "[[1 3]\n",
            " [2 4]]\n"
          ],
          "name": "stdout"
        }
      ]
    },
    {
      "metadata": {
        "id": "geTln2MOkBoI",
        "colab_type": "code",
        "colab": {
          "base_uri": "https://localhost:8080/",
          "height": 280
        },
        "outputId": "badbf353-46c6-4734-9a57-2ed424a6a48e"
      },
      "cell_type": "code",
      "source": [
        "# Matrix Multiplcation\n",
        "A = np.matrix([[0, 2, 0, 2], [1, 0, 1, 0]])\n",
        "B = np.mat([[1], [2], [3], [4]])\n",
        "\n",
        "print(A@B) # only python 3\n",
        "print(np.matmul(A, B))\n",
        "print(np.matmul(B, A))"
      ],
      "execution_count": 19,
      "outputs": [
        {
          "output_type": "stream",
          "text": [
            "[[12]\n",
            " [ 4]]\n",
            "[[12]\n",
            " [ 4]]\n"
          ],
          "name": "stdout"
        },
        {
          "output_type": "error",
          "ename": "ValueError",
          "evalue": "ignored",
          "traceback": [
            "\u001b[0;31m---------------------------------------------------------------------------\u001b[0m",
            "\u001b[0;31mValueError\u001b[0m                                Traceback (most recent call last)",
            "\u001b[0;32m<ipython-input-19-08365da20156>\u001b[0m in \u001b[0;36m<module>\u001b[0;34m()\u001b[0m\n\u001b[1;32m      4\u001b[0m \u001b[0mprint\u001b[0m\u001b[0;34m(\u001b[0m\u001b[0mA\u001b[0m\u001b[0;34m@\u001b[0m\u001b[0mB\u001b[0m\u001b[0;34m)\u001b[0m \u001b[0;31m# only python 3\u001b[0m\u001b[0;34m\u001b[0m\u001b[0m\n\u001b[1;32m      5\u001b[0m \u001b[0mprint\u001b[0m\u001b[0;34m(\u001b[0m\u001b[0mnp\u001b[0m\u001b[0;34m.\u001b[0m\u001b[0mmatmul\u001b[0m\u001b[0;34m(\u001b[0m\u001b[0mA\u001b[0m\u001b[0;34m,\u001b[0m \u001b[0mB\u001b[0m\u001b[0;34m)\u001b[0m\u001b[0;34m)\u001b[0m\u001b[0;34m\u001b[0m\u001b[0m\n\u001b[0;32m----> 6\u001b[0;31m \u001b[0mprint\u001b[0m\u001b[0;34m(\u001b[0m\u001b[0mnp\u001b[0m\u001b[0;34m.\u001b[0m\u001b[0mmatmul\u001b[0m\u001b[0;34m(\u001b[0m\u001b[0mB\u001b[0m\u001b[0;34m,\u001b[0m \u001b[0mA\u001b[0m\u001b[0;34m)\u001b[0m\u001b[0;34m)\u001b[0m\u001b[0;34m\u001b[0m\u001b[0m\n\u001b[0m",
            "\u001b[0;31mValueError\u001b[0m: shapes (4,1) and (2,4) not aligned: 1 (dim 1) != 2 (dim 0)"
          ]
        }
      ]
    },
    {
      "metadata": {
        "id": "PjpO2dJskYSi",
        "colab_type": "text"
      },
      "cell_type": "markdown",
      "source": [
        "## Various Square Matrix"
      ]
    },
    {
      "metadata": {
        "id": "PlCOSzvkkhaL",
        "colab_type": "code",
        "colab": {
          "base_uri": "https://localhost:8080/",
          "height": 71
        },
        "outputId": "62749f6d-c6c4-473f-c886-5f0fff85cd45"
      },
      "cell_type": "code",
      "source": [
        "# Diagonal matrix\n",
        "diagA = np.diag([1, 2, 4])\n",
        "print(diagA)"
      ],
      "execution_count": 20,
      "outputs": [
        {
          "output_type": "stream",
          "text": [
            "[[1 0 0]\n",
            " [0 2 0]\n",
            " [0 0 4]]\n"
          ],
          "name": "stdout"
        }
      ]
    },
    {
      "metadata": {
        "id": "GbsTsaDLkoJ6",
        "colab_type": "code",
        "colab": {
          "base_uri": "https://localhost:8080/",
          "height": 71
        },
        "outputId": "e528e1c1-42a9-4ef9-ed29-4774bf7a0814"
      },
      "cell_type": "code",
      "source": [
        "# Identity matrix\n",
        "idenA = np.identity(3)\n",
        "print(idenA)"
      ],
      "execution_count": 21,
      "outputs": [
        {
          "output_type": "stream",
          "text": [
            "[[1. 0. 0.]\n",
            " [0. 1. 0.]\n",
            " [0. 0. 1.]]\n"
          ],
          "name": "stdout"
        }
      ]
    },
    {
      "metadata": {
        "id": "9bWiJOfAkst9",
        "colab_type": "code",
        "colab": {
          "base_uri": "https://localhost:8080/",
          "height": 233
        },
        "outputId": "4d065f35-5159-4a84-ea46-e726a3fc0b3f"
      },
      "cell_type": "code",
      "source": [
        "# Triangular matrix\n",
        "A = np.mat([[1, 2, 3], [4, 5, 6], [7, 8, 9]])\n",
        "print('Square matrix')\n",
        "print(A)\n",
        "print('Upper Triangular matrix')\n",
        "print(np.triu(A))\n",
        "print('Lower Triangular matrix')\n",
        "print(np.tril(A))"
      ],
      "execution_count": 22,
      "outputs": [
        {
          "output_type": "stream",
          "text": [
            "Square matrix\n",
            "[[1 2 3]\n",
            " [4 5 6]\n",
            " [7 8 9]]\n",
            "Upper Triangular matrix\n",
            "[[1 2 3]\n",
            " [0 5 6]\n",
            " [0 0 9]]\n",
            "Lower Triangular matrix\n",
            "[[1 0 0]\n",
            " [4 5 0]\n",
            " [7 8 9]]\n"
          ],
          "name": "stdout"
        }
      ]
    },
    {
      "metadata": {
        "id": "DhRsI0bClDbA",
        "colab_type": "code",
        "colab": {
          "base_uri": "https://localhost:8080/",
          "height": 125
        },
        "outputId": "b6f226bb-5f8e-46a3-8a71-866c010d9253"
      },
      "cell_type": "code",
      "source": [
        "# Inverse matrix\n",
        "A = np.mat([[1, 2], [1, 0]])\n",
        "invA = np.linalg.inv(A)\n",
        "print('Matrix A')\n",
        "print(A)\n",
        "print('Inverse matrix A')\n",
        "print(invA)"
      ],
      "execution_count": 23,
      "outputs": [
        {
          "output_type": "stream",
          "text": [
            "Matrix A\n",
            "[[1 2]\n",
            " [1 0]]\n",
            "Inverse matrix A\n",
            "[[ 0.   1. ]\n",
            " [ 0.5 -0.5]]\n"
          ],
          "name": "stdout"
        }
      ]
    },
    {
      "metadata": {
        "id": "8znT8WyUlU7q",
        "colab_type": "text"
      },
      "cell_type": "markdown",
      "source": [
        "## Matrix translation & Eigen Analysis"
      ]
    },
    {
      "metadata": {
        "id": "kTTzw_EwlZMm",
        "colab_type": "code",
        "colab": {}
      },
      "cell_type": "code",
      "source": [
        "# library\n",
        "import numpy as np"
      ],
      "execution_count": 0,
      "outputs": []
    },
    {
      "metadata": {
        "id": "KqDJOPhRlhVi",
        "colab_type": "code",
        "colab": {
          "base_uri": "https://localhost:8080/",
          "height": 179
        },
        "outputId": "a19b14d3-8377-4309-a2e3-7cc9e6ab9508"
      },
      "cell_type": "code",
      "source": [
        "# Matrix transform\n",
        "W = np.mat([[1/np.sqrt(2), 1/np.sqrt(2)], [-1/np.sqrt(2), 1/np.sqrt(2)]])\n",
        "X = np.mat([[1], [2]])\n",
        "print('Translation Matrix')\n",
        "print(W)\n",
        "print('Matrix A')\n",
        "print(X)\n",
        "print('Transformed Matrix')\n",
        "print(np.matmul(W, X))"
      ],
      "execution_count": 27,
      "outputs": [
        {
          "output_type": "stream",
          "text": [
            "Translation Matrix\n",
            "[[ 0.70710678  0.70710678]\n",
            " [-0.70710678  0.70710678]]\n",
            "Matrix A\n",
            "[[1]\n",
            " [2]]\n",
            "Transformed Matrix\n",
            "[[2.12132034]\n",
            " [0.70710678]]\n"
          ],
          "name": "stdout"
        }
      ]
    },
    {
      "metadata": {
        "id": "-TFHXG0fmFHp",
        "colab_type": "code",
        "colab": {
          "base_uri": "https://localhost:8080/",
          "height": 35
        },
        "outputId": "782ec1d1-8d82-4ab3-82f6-a0c16f812a7a"
      },
      "cell_type": "code",
      "source": [
        "# Determinant\n",
        "A = np.array([[1, 2], [3, 4]])\n",
        "print(np.linalg.det(A))"
      ],
      "execution_count": 28,
      "outputs": [
        {
          "output_type": "stream",
          "text": [
            "-2.0000000000000004\n"
          ],
          "name": "stdout"
        }
      ]
    },
    {
      "metadata": {
        "id": "83EpSj6emMBi",
        "colab_type": "code",
        "colab": {
          "base_uri": "https://localhost:8080/",
          "height": 71
        },
        "outputId": "251a8dbd-491b-4a12-ac3a-f6116f469a8e"
      },
      "cell_type": "code",
      "source": [
        "# Eigenvalue & Eigenvector\n",
        "A = np.mat([[3, 1], [1, 3]])\n",
        "eigVal, eigVec = np.linalg.eig(A)\n",
        "print(eigVal)\n",
        "print(eigVec)"
      ],
      "execution_count": 29,
      "outputs": [
        {
          "output_type": "stream",
          "text": [
            "[4. 2.]\n",
            "[[ 0.70710678 -0.70710678]\n",
            " [ 0.70710678  0.70710678]]\n"
          ],
          "name": "stdout"
        }
      ]
    }
  ]
}
{
 "cells": [
  {
   "cell_type": "markdown",
   "metadata": {},
   "source": [
    "# Data Science 101, 20192 HW2 Solution"
   ]
  },
  {
   "cell_type": "code",
   "execution_count": 1,
   "metadata": {},
   "outputs": [],
   "source": [
    "# ---------------------------------------------\n",
    "# store ndarray all image after read and resize\n",
    "# ---------------------------------------------\n",
    "import os\n",
    "import numpy as np \n",
    "import cv2 \n",
    "\n",
    "DATA = np.zeros((1440, 4096), dtype=float)  # Full Data\n",
    "LABEL = np.zeros((1440, 1), dtype=int)       # Class Label for Full Data\n",
    "dataset_path = 'coil-20-proc'\n",
    "idx = 0\n",
    "for classID in range(1, 21):\n",
    "    for sampleID in range(0, 72):\n",
    "        filename = \"obj{}__{}.png\".format(classID, sampleID)\n",
    "        # print(filename, idx)\n",
    "        fs = os.path.join('.', dataset_path, filename)\n",
    "        img = cv2.imread(fs, cv2.IMREAD_GRAYSCALE)\n",
    "        if type(img) is not np.ndarray: \n",
    "            print(\"Image Read Failed\")\n",
    "            exit()\n",
    "        reimg = cv2.resize(img, (64,64))\n",
    "        DATA[idx,:] = reimg.reshape(-1)\n",
    "        LABEL[idx,:] = classID\n",
    "        idx += 1"
   ]
  },
  {
   "cell_type": "code",
   "execution_count": 2,
   "metadata": {},
   "outputs": [
    {
     "name": "stdout",
     "output_type": "stream",
     "text": [
      "(64, 64)\n"
     ]
    },
    {
     "data": {
      "text/plain": [
       "<matplotlib.image.AxesImage at 0x24f364942e8>"
      ]
     },
     "execution_count": 2,
     "metadata": {},
     "output_type": "execute_result"
    },
    {
     "data": {
      "image/png": "[encoded data removed]",
      "text/plain": [
       "<Figure size 432x288 with 1 Axes>"
      ]
     },
     "metadata": {
      "needs_background": "light"
     },
     "output_type": "display_data"
    }
   ],
   "source": [
    "# ---------------------------------------------\n",
    "# show sample image\n",
    "# ---------------------------------------------\n",
    "import matplotlib.pyplot as plt\n",
    "%matplotlib inline\n",
    "img = DATA[1439,:].reshape(64,64)\n",
    "print(img.shape)\n",
    "plt.imshow(img, cmap='gray')"
   ]
  },
  {
   "cell_type": "code",
   "execution_count": 3,
   "metadata": {},
   "outputs": [
    {
     "name": "stdout",
     "output_type": "stream",
     "text": [
      "(720, 4096)\n",
      "(720, 4096)\n"
     ]
    }
   ],
   "source": [
    "# ---------------------------------------------\n",
    "# split data into train and test\n",
    "# ---------------------------------------------\n",
    "from sklearn.model_selection import train_test_split\n",
    "Xtrain, Xtest, Ytrain, Ytest = train_test_split(DATA, LABEL, test_size=0.5, random_state=42)\n",
    "print(Xtrain.shape)\n",
    "print(Xtest.shape)\n",
    "#print(Ytrain.shape)\n",
    "#print(Ytest)"
   ]
  },
  {
   "cell_type": "code",
   "execution_count": 4,
   "metadata": {},
   "outputs": [],
   "source": [
    "# ---------------------------------------------\n",
    "# pre-processing\n",
    "# ---------------------------------------------\n",
    "Xtrain = Xtrain / 255.\n",
    "Xtest = Xtest / 255."
   ]
  },
  {
   "cell_type": "code",
   "execution_count": 5,
   "metadata": {},
   "outputs": [],
   "source": [
    "# ---------------------------------------------\n",
    "# feature extraction & K-NN(K=1)\n",
    "# ---------------------------------------------\n",
    "from sklearn.decomposition import PCA\n",
    "from sklearn.discriminant_analysis import LinearDiscriminantAnalysis\n",
    "from sklearn.neighbors import KNeighborsClassifier\n",
    "\n",
    "# PCA 95% information retention for LDA\n",
    "pca95 = PCA(n_components=0.95)\n",
    "pca95.fit(Xtrain)\n",
    "Xpca95 = pca95.transform(Xtrain)\n",
    "Xtpca95 = pca95.transform(Xtest)\n",
    "#print(Xpca95.shape)\n",
    "#print(Xpca95[0,:10])\n",
    "\n",
    "resultPCA = np.zeros((19, 1), dtype=float)\n",
    "resultLDA = np.zeros((19, 1), dtype=float)\n",
    "for i in range(19):\n",
    "    # PCA\n",
    "    pca = PCA(n_components=i+1)\n",
    "    pca.fit(Xtrain)\n",
    "    Xpca = pca.transform(Xtrain)\n",
    "    Xtpca = pca.transform(Xtest)\n",
    "    \n",
    "    # LDA\n",
    "    lda = LinearDiscriminantAnalysis(n_components=i+1)\n",
    "    lda.fit(Xpca95, np.ravel(Ytrain))\n",
    "    Xlda = lda.transform(Xpca95)\n",
    "    Xtlda = lda.transform(Xtpca95)\n",
    "    \n",
    "    # KNN\n",
    "    neigh = KNeighborsClassifier(n_neighbors=7)\n",
    "    neigh.fit(Xpca, np.ravel(Ytrain))\n",
    "    resultPCA[i,0] = neigh.score(Xtpca, np.ravel(Ytest))\n",
    "    neigh.fit(Xlda, np.ravel(Ytrain))\n",
    "    resultLDA[i,0] = neigh.score(Xtlda, np.ravel(Ytest))"
   ]
  },
  {
   "cell_type": "code",
   "execution_count": 6,
   "metadata": {},
   "outputs": [
    {
     "data": {
      "text/plain": [
       "<matplotlib.legend.Legend at 0x24f39c61be0>"
      ]
     },
     "execution_count": 6,
     "metadata": {},
     "output_type": "execute_result"
    },
    {
     "data": {
      "image/png": "[encoded data removed]",
      "text/plain": [
       "<Figure size 432x288 with 1 Axes>"
      ]
     },
     "metadata": {
      "needs_background": "light"
     },
     "output_type": "display_data"
    }
   ],
   "source": [
    "plt.plot(np.linspace(1,19, num=19), resultPCA, linestyle='--', color='b', label = 'PCA')\n",
    "plt.plot(np.linspace(1,19, num=19), resultLDA, linestyle='-', color='r', label = 'LDA')\n",
    "plt.xticks(np.arange(1, 20, step=2))\n",
    "plt.title('PCA vs. LDA KNN Accuracy')\n",
    "plt.xlabel('Number of Features')\n",
    "plt.ylabel('Accuracy')\n",
    "plt.legend()"
   ]
  },
  {
   "cell_type": "code",
   "execution_count": 7,
   "metadata": {},
   "outputs": [
    {
     "name": "stdout",
     "output_type": "stream",
     "text": [
      "PCA Best Accuracy = 0.95\n",
      "LDA Best Accuracy = 0.98\n"
     ]
    }
   ],
   "source": [
    "print('PCA Best Accuracy = {:.2f}'.format(np.max(resultPCA)))\n",
    "print('LDA Best Accuracy = {:.2f}'.format(np.max(resultLDA)))"
   ]
  }
 ],
 "metadata": {
  "kernelspec": {
   "display_name": "Python 3",
   "language": "python",
   "name": "python3"
  },
  "language_info": {
   "codemirror_mode": {
    "name": "ipython",
    "version": 3
   },
   "file_extension": ".py",
   "mimetype": "text/x-python",
   "name": "python",
   "nbconvert_exporter": "python",
   "pygments_lexer": "ipython3",
   "version": "3.6.8"
  }
 },
 "nbformat": 4,
 "nbformat_minor": 2
}
